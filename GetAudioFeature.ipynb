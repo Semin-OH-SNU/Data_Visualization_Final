{
 "cells": [
  {
   "cell_type": "code",
   "execution_count": 11,
   "metadata": {},
   "outputs": [],
   "source": [
    "import spotipy\n",
    "import chardet\n",
    "from typing import Dict,List\n",
    "import pandas as pd"
   ]
  },
  {
   "cell_type": "code",
   "execution_count": 24,
   "metadata": {},
   "outputs": [],
   "source": [
    "cid = 'ca54418c3218402b95563af47a745061'\n",
    "secret = '1fd59395ee214f77ab52c05864bd2860'\n",
    "redirect_uri = 'http://localhost:8080/callback'\n",
    "ccm = spotipy.SpotifyClientCredentials(client_id=cid, client_secret=secret)\n",
    "sp = spotipy.Spotify(client_credentials_manager=ccm)"
   ]
  },
  {
   "cell_type": "code",
   "execution_count": 25,
   "metadata": {},
   "outputs": [],
   "source": [
    "#제목으로 audio feature 쿼리 요청\n",
    "def get_audio_features(song_title:str)->Dict:\n",
    "    query = f\"track:{song_title}\"\n",
    "    result = sp.search(q=query, type=\"track\", limit=1)\n",
    "    \n",
    "    if result['tracks']['items']:\n",
    "        track = result['tracks']['items'][0]\n",
    "        track_id = track[\"id\"]  \n",
    "        audio_features = sp.audio_features(track_id)[0] \n",
    "        return audio_features\n",
    "\n",
    "#제목으로 artist genre 쿼리 요청\n",
    "def get_artist_genres(title:str)->Dict:\n",
    "    result = sp.search(q=f\"track:{title}\", type=\"artist\", limit=1)\n",
    "    if result[\"artists\"][\"items\"]:\n",
    "        artist = result[\"artists\"][\"items\"][0]  \n",
    "        artist_name = artist[\"name\"]\n",
    "        genres = artist[\"genres\"]  \n",
    "        return {\"artist\": artist_name, \"genres\": genres}"
   ]
  },
  {
   "cell_type": "code",
   "execution_count": null,
   "metadata": {},
   "outputs": [],
   "source": [
    "path = \"./Data/preparation.csv\"\n",
    "with open(path,\"rb\") as f:\n",
    "    encoding = chardet.detect(f.read())[\"encoding\"]\n",
    "\n",
    "df = pd.read_csv(path,encoding=encoding)"
   ]
  },
  {
   "cell_type": "code",
   "execution_count": 27,
   "metadata": {},
   "outputs": [],
   "source": [
    "for index, row in df.iterrows():\n",
    "    if not pd.isna(row[\"danceability\"]):\n",
    "        continue\n",
    "    features = get_audio_features(row[\"Song\"])\n",
    "    if not features:\n",
    "        continue     \n",
    "    for feature, value in features.items():\n",
    "        df.at[index, feature] = value"
   ]
  },
  {
   "cell_type": "code",
   "execution_count": 54,
   "metadata": {},
   "outputs": [],
   "source": [
    "for index, row in df.iterrows():\n",
    "    if not pd.isna(row[\"artist genres\"]):\n",
    "        continue\n",
    "    features = get_artist_genres(row[\"titles\"])\n",
    "    if not features:\n",
    "        continue\n",
    "   \n",
    "    for feature, value in features.items():\n",
    "        df.at[index, feature] = value"
   ]
  },
  {
   "cell_type": "code",
   "execution_count": 56,
   "metadata": {},
   "outputs": [
    {
     "data": {
      "text/html": [
       "<div>\n",
       "<style scoped>\n",
       "    .dataframe tbody tr th:only-of-type {\n",
       "        vertical-align: middle;\n",
       "    }\n",
       "\n",
       "    .dataframe tbody tr th {\n",
       "        vertical-align: top;\n",
       "    }\n",
       "\n",
       "    .dataframe thead th {\n",
       "        text-align: right;\n",
       "    }\n",
       "</style>\n",
       "<table border=\"1\" class=\"dataframe\">\n",
       "  <thead>\n",
       "    <tr style=\"text-align: right;\">\n",
       "      <th></th>\n",
       "      <th>artist genres</th>\n",
       "      <th>danceability</th>\n",
       "    </tr>\n",
       "  </thead>\n",
       "  <tbody>\n",
       "    <tr>\n",
       "      <th>0</th>\n",
       "      <td>['adult standards', 'easy listening']</td>\n",
       "      <td>0.247</td>\n",
       "    </tr>\n",
       "    <tr>\n",
       "      <th>1</th>\n",
       "      <td>['british dance band']</td>\n",
       "      <td>0.344</td>\n",
       "    </tr>\n",
       "    <tr>\n",
       "      <th>2</th>\n",
       "      <td>['vocal harmony group', 'lounge']</td>\n",
       "      <td>0.531</td>\n",
       "    </tr>\n",
       "    <tr>\n",
       "      <th>3</th>\n",
       "      <td>['adult standards', 'lounge', 'easy listening']</td>\n",
       "      <td>0.670</td>\n",
       "    </tr>\n",
       "    <tr>\n",
       "      <th>4</th>\n",
       "      <td>['space age pop', 'honky-tonk piano']</td>\n",
       "      <td>0.332</td>\n",
       "    </tr>\n",
       "  </tbody>\n",
       "</table>\n",
       "</div>"
      ],
      "text/plain": [
       "                                     artist genres  danceability\n",
       "0            ['adult standards', 'easy listening']         0.247\n",
       "1                           ['british dance band']         0.344\n",
       "2                ['vocal harmony group', 'lounge']         0.531\n",
       "3  ['adult standards', 'lounge', 'easy listening']         0.670\n",
       "4            ['space age pop', 'honky-tonk piano']         0.332"
      ]
     },
     "execution_count": 56,
     "metadata": {},
     "output_type": "execute_result"
    }
   ],
   "source": [
    "df[[\"artist genres\",\"danceability\"]].head()"
   ]
  },
  {
   "cell_type": "code",
   "execution_count": 58,
   "metadata": {},
   "outputs": [],
   "source": [
    "df.to_csv(\"./Data/prepared.csv\")"
   ]
  }
 ],
 "metadata": {
  "kernelspec": {
   "display_name": "Python 3",
   "language": "python",
   "name": "python3"
  },
  "language_info": {
   "codemirror_mode": {
    "name": "ipython",
    "version": 3
   },
   "file_extension": ".py",
   "mimetype": "text/x-python",
   "name": "python",
   "nbconvert_exporter": "python",
   "pygments_lexer": "ipython3",
   "version": "3.8.3"
  }
 },
 "nbformat": 4,
 "nbformat_minor": 2
}
