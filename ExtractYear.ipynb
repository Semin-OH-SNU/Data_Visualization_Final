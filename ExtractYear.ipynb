{
 "cells": [
  {
   "cell_type": "code",
   "execution_count": 2,
   "metadata": {},
   "outputs": [],
   "source": [
    "import pandas as pd\n",
    "chunksize = 10**6\n",
    "filtered_chunks = []\n",
    "target_year =  2023"
   ]
  },
  {
   "cell_type": "code",
   "execution_count": 3,
   "metadata": {},
   "outputs": [],
   "source": [
    "for chunk in pd.read_csv(\"./Data/year_country_artists.csv\", chunksize=chunksize):\n",
    "    filtered_chunk = chunk[chunk['year'] == target_year]\n",
    "    filtered_chunks.append(filtered_chunk)\n",
    "\n",
    "filtered_df = pd.concat(filtered_chunks)\n",
    "filtered_df.to_csv(f\"{target_year}_filtered.csv\", index=False)"
   ]
  },
  {
   "cell_type": "code",
   "execution_count": 4,
   "metadata": {},
   "outputs": [
    {
     "data": {
      "text/html": [
       "<div>\n",
       "<style scoped>\n",
       "    .dataframe tbody tr th:only-of-type {\n",
       "        vertical-align: middle;\n",
       "    }\n",
       "\n",
       "    .dataframe tbody tr th {\n",
       "        vertical-align: top;\n",
       "    }\n",
       "\n",
       "    .dataframe thead th {\n",
       "        text-align: right;\n",
       "    }\n",
       "</style>\n",
       "<table border=\"1\" class=\"dataframe\">\n",
       "  <thead>\n",
       "    <tr style=\"text-align: right;\">\n",
       "      <th></th>\n",
       "      <th>Unnamed: 0</th>\n",
       "      <th>date</th>\n",
       "      <th>country</th>\n",
       "      <th>artists</th>\n",
       "      <th>year</th>\n",
       "      <th>artists_country</th>\n",
       "    </tr>\n",
       "  </thead>\n",
       "  <tbody>\n",
       "    <tr>\n",
       "      <th>6</th>\n",
       "      <td>6</td>\n",
       "      <td>2023/02/02</td>\n",
       "      <td>co</td>\n",
       "      <td>['Kalido', 'Totoy El Frio', 'HIT$ MUSIC']</td>\n",
       "      <td>2023</td>\n",
       "      <td>NaN</td>\n",
       "    </tr>\n",
       "    <tr>\n",
       "      <th>541</th>\n",
       "      <td>541</td>\n",
       "      <td>2023/03/09</td>\n",
       "      <td>pl</td>\n",
       "      <td>['Kronkel Dom']</td>\n",
       "      <td>2023</td>\n",
       "      <td>NaN</td>\n",
       "    </tr>\n",
       "    <tr>\n",
       "      <th>542</th>\n",
       "      <td>542</td>\n",
       "      <td>2023/03/16</td>\n",
       "      <td>pl</td>\n",
       "      <td>['Kronkel Dom']</td>\n",
       "      <td>2023</td>\n",
       "      <td>NaN</td>\n",
       "    </tr>\n",
       "    <tr>\n",
       "      <th>543</th>\n",
       "      <td>543</td>\n",
       "      <td>2023/03/23</td>\n",
       "      <td>pl</td>\n",
       "      <td>['Kronkel Dom']</td>\n",
       "      <td>2023</td>\n",
       "      <td>NaN</td>\n",
       "    </tr>\n",
       "    <tr>\n",
       "      <th>544</th>\n",
       "      <td>544</td>\n",
       "      <td>2023/03/30</td>\n",
       "      <td>pl</td>\n",
       "      <td>['Kronkel Dom']</td>\n",
       "      <td>2023</td>\n",
       "      <td>NaN</td>\n",
       "    </tr>\n",
       "  </tbody>\n",
       "</table>\n",
       "</div>"
      ],
      "text/plain": [
       "     Unnamed: 0        date country  \\\n",
       "6             6  2023/02/02      co   \n",
       "541         541  2023/03/09      pl   \n",
       "542         542  2023/03/16      pl   \n",
       "543         543  2023/03/23      pl   \n",
       "544         544  2023/03/30      pl   \n",
       "\n",
       "                                       artists  year  artists_country  \n",
       "6    ['Kalido', 'Totoy El Frio', 'HIT$ MUSIC']  2023              NaN  \n",
       "541                            ['Kronkel Dom']  2023              NaN  \n",
       "542                            ['Kronkel Dom']  2023              NaN  \n",
       "543                            ['Kronkel Dom']  2023              NaN  \n",
       "544                            ['Kronkel Dom']  2023              NaN  "
      ]
     },
     "execution_count": 4,
     "metadata": {},
     "output_type": "execute_result"
    }
   ],
   "source": [
    "filtered_df.head()"
   ]
  }
 ],
 "metadata": {
  "kernelspec": {
   "display_name": "Python 3",
   "language": "python",
   "name": "python3"
  },
  "language_info": {
   "codemirror_mode": {
    "name": "ipython",
    "version": 3
   },
   "file_extension": ".py",
   "mimetype": "text/x-python",
   "name": "python",
   "nbconvert_exporter": "python",
   "pygments_lexer": "ipython3",
   "version": "3.8.3"
  }
 },
 "nbformat": 4,
 "nbformat_minor": 2
}
