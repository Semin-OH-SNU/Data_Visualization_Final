{
 "cells": [
  {
   "cell_type": "code",
   "execution_count": 2,
   "metadata": {},
   "outputs": [],
   "source": [
    "import pandas as pd\n",
    "filtered_df = pd.read_csv(\"./Data/2023_filtered.csv\")\n",
    "unique_df = pd.read_csv(\"./Data/unique_artists_with_country2023.csv\")"
   ]
  },
  {
   "cell_type": "code",
   "execution_count": null,
   "metadata": {},
   "outputs": [],
   "source": [
    "filtered_df['artists_country'] = None"
   ]
  },
  {
   "cell_type": "code",
   "execution_count": 3,
   "metadata": {},
   "outputs": [],
   "source": [
    "artist_country_map = unique_df.set_index(\"unique_artists\")[\"country\"].to_dict()"
   ]
  },
  {
   "cell_type": "code",
   "execution_count": 4,
   "metadata": {},
   "outputs": [],
   "source": [
    "def map_country(artists_list, artist_country_map):\n",
    "    for artist in eval(artists_list):  # 문자열로 저장된 리스트 평가\n",
    "        if artist in artist_country_map:\n",
    "            return artist_country_map[artist]\n",
    "    return None"
   ]
  },
  {
   "cell_type": "code",
   "execution_count": 5,
   "metadata": {},
   "outputs": [],
   "source": [
    "filtered_df['artists_country'] = filtered_df['artists'].apply(\n",
    "    lambda x: map_country(x, artist_country_map)\n",
    ")"
   ]
  },
  {
   "cell_type": "code",
   "execution_count": 6,
   "metadata": {},
   "outputs": [],
   "source": [
    "filtered_df.to_csv(\"./Data/2023_filtered.csv\", index=False)"
   ]
  },
  {
   "cell_type": "code",
   "execution_count": 7,
   "metadata": {},
   "outputs": [
    {
     "data": {
      "text/html": [
       "<div>\n",
       "<style scoped>\n",
       "    .dataframe tbody tr th:only-of-type {\n",
       "        vertical-align: middle;\n",
       "    }\n",
       "\n",
       "    .dataframe tbody tr th {\n",
       "        vertical-align: top;\n",
       "    }\n",
       "\n",
       "    .dataframe thead th {\n",
       "        text-align: right;\n",
       "    }\n",
       "</style>\n",
       "<table border=\"1\" class=\"dataframe\">\n",
       "  <thead>\n",
       "    <tr style=\"text-align: right;\">\n",
       "      <th></th>\n",
       "      <th>Unnamed: 0</th>\n",
       "      <th>date</th>\n",
       "      <th>country</th>\n",
       "      <th>artists</th>\n",
       "      <th>year</th>\n",
       "      <th>artists_country</th>\n",
       "    </tr>\n",
       "  </thead>\n",
       "  <tbody>\n",
       "    <tr>\n",
       "      <th>0</th>\n",
       "      <td>6</td>\n",
       "      <td>2023/02/02</td>\n",
       "      <td>co</td>\n",
       "      <td>['Kalido', 'Totoy El Frio', 'HIT$ MUSIC']</td>\n",
       "      <td>2023</td>\n",
       "      <td>Unknown</td>\n",
       "    </tr>\n",
       "    <tr>\n",
       "      <th>1</th>\n",
       "      <td>541</td>\n",
       "      <td>2023/03/09</td>\n",
       "      <td>pl</td>\n",
       "      <td>['Kronkel Dom']</td>\n",
       "      <td>2023</td>\n",
       "      <td>DE</td>\n",
       "    </tr>\n",
       "    <tr>\n",
       "      <th>2</th>\n",
       "      <td>542</td>\n",
       "      <td>2023/03/16</td>\n",
       "      <td>pl</td>\n",
       "      <td>['Kronkel Dom']</td>\n",
       "      <td>2023</td>\n",
       "      <td>DE</td>\n",
       "    </tr>\n",
       "    <tr>\n",
       "      <th>3</th>\n",
       "      <td>543</td>\n",
       "      <td>2023/03/23</td>\n",
       "      <td>pl</td>\n",
       "      <td>['Kronkel Dom']</td>\n",
       "      <td>2023</td>\n",
       "      <td>DE</td>\n",
       "    </tr>\n",
       "    <tr>\n",
       "      <th>4</th>\n",
       "      <td>544</td>\n",
       "      <td>2023/03/30</td>\n",
       "      <td>pl</td>\n",
       "      <td>['Kronkel Dom']</td>\n",
       "      <td>2023</td>\n",
       "      <td>DE</td>\n",
       "    </tr>\n",
       "  </tbody>\n",
       "</table>\n",
       "</div>"
      ],
      "text/plain": [
       "   Unnamed: 0        date country                                    artists  \\\n",
       "0           6  2023/02/02      co  ['Kalido', 'Totoy El Frio', 'HIT$ MUSIC']   \n",
       "1         541  2023/03/09      pl                            ['Kronkel Dom']   \n",
       "2         542  2023/03/16      pl                            ['Kronkel Dom']   \n",
       "3         543  2023/03/23      pl                            ['Kronkel Dom']   \n",
       "4         544  2023/03/30      pl                            ['Kronkel Dom']   \n",
       "\n",
       "   year artists_country  \n",
       "0  2023         Unknown  \n",
       "1  2023              DE  \n",
       "2  2023              DE  \n",
       "3  2023              DE  \n",
       "4  2023              DE  "
      ]
     },
     "execution_count": 7,
     "metadata": {},
     "output_type": "execute_result"
    }
   ],
   "source": [
    "filtered_df.head()"
   ]
  },
  {
   "cell_type": "code",
   "execution_count": null,
   "metadata": {},
   "outputs": [],
   "source": []
  }
 ],
 "metadata": {
  "kernelspec": {
   "display_name": "Python 3",
   "language": "python",
   "name": "python3"
  },
  "language_info": {
   "codemirror_mode": {
    "name": "ipython",
    "version": 3
   },
   "file_extension": ".py",
   "mimetype": "text/x-python",
   "name": "python",
   "nbconvert_exporter": "python",
   "pygments_lexer": "ipython3",
   "version": "3.8.3"
  }
 },
 "nbformat": 4,
 "nbformat_minor": 2
}
