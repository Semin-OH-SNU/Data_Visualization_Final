{
 "cells": [
  {
   "cell_type": "code",
   "execution_count": 5,
   "metadata": {},
   "outputs": [],
   "source": [
    "import pandas as pd\n",
    "import requests\n",
    "import time\n",
    "import os"
   ]
  },
  {
   "cell_type": "code",
   "execution_count": 10,
   "metadata": {},
   "outputs": [],
   "source": [
    "BASE_URL = \"https://musicbrainz.org/ws/2/artist/\"\n",
    "CHECKPOINT_FILE = \"./Data/unique_artists_with_country2023.csv\""
   ]
  },
  {
   "cell_type": "code",
   "execution_count": 3,
   "metadata": {},
   "outputs": [],
   "source": [
    "#\"artist\"열의 문자열로 쿼리 요청, 응답 데이터 중 country값을 return\n",
    "def get_artist_country(artist_name):\n",
    "    headers = {\"User-Agent\": \"Data_Visualization_Practice/1.0 (dhtpals@snu.ac.kr)\"}\n",
    "    params = {\n",
    "        \"query\": artist_name,\n",
    "        \"fmt\": \"json\",\n",
    "    }\n",
    "    try:\n",
    "        response = requests.get(BASE_URL, headers=headers, params=params)\n",
    "        response.raise_for_status()\n",
    "        data = response.json()\n",
    "        if \"artists\" in data and len(data[\"artists\"]) > 0:\n",
    "            artist_info = data[\"artists\"][0]\n",
    "            if \"country\" in artist_info:\n",
    "                return artist_info[\"country\"]  \n",
    "        return \"Unknown\" \n",
    "    except Exception as e:\n",
    "        print(f\"Error fetching data for {artist_name}: {e}\")\n",
    "        return \"Error\""
   ]
  },
  {
   "cell_type": "code",
   "execution_count": 11,
   "metadata": {},
   "outputs": [
    {
     "name": "stdout",
     "output_type": "stream",
     "text": [
      "Checkpoint loaded.\n"
     ]
    }
   ],
   "source": [
    "if os.path.exists(CHECKPOINT_FILE):\n",
    "    df = pd.read_csv(CHECKPOINT_FILE)\n",
    "    print(\"Checkpoint loaded.\")\n",
    "else:\n",
    "    df = pd.read_csv(\"./Data/unique_artists_2023.csv\")\n",
    "    df[\"country\"] = None \n",
    "\n",
    "for idx, row in df.iterrows():\n",
    "    if pd.notna(row[\"country\"]):  \n",
    "        continue\n",
    "\n",
    "    artist_name = row[\"unique_artists\"]\n",
    "    country = get_artist_country(artist_name)\n",
    "    df.at[idx, \"country\"] = country\n",
    "\n",
    "    # 100행마다 중간 저장\n",
    "    if idx % 100 == 0:\n",
    "        df.to_csv(CHECKPOINT_FILE, index=False)\n",
    "        print(f\"Checkpoint saved at row {idx}.\")\n",
    "\n",
    "    # API 요청 간 딜레이 부여.\n",
    "    time.sleep(1)"
   ]
  },
  {
   "cell_type": "code",
   "execution_count": 12,
   "metadata": {},
   "outputs": [],
   "source": [
    "df.to_csv(CHECKPOINT_FILE, index=False)"
   ]
  },
  {
   "cell_type": "code",
   "execution_count": 13,
   "metadata": {},
   "outputs": [
    {
     "data": {
      "text/html": [
       "<div>\n",
       "<style scoped>\n",
       "    .dataframe tbody tr th:only-of-type {\n",
       "        vertical-align: middle;\n",
       "    }\n",
       "\n",
       "    .dataframe tbody tr th {\n",
       "        vertical-align: top;\n",
       "    }\n",
       "\n",
       "    .dataframe thead th {\n",
       "        text-align: right;\n",
       "    }\n",
       "</style>\n",
       "<table border=\"1\" class=\"dataframe\">\n",
       "  <thead>\n",
       "    <tr style=\"text-align: right;\">\n",
       "      <th></th>\n",
       "      <th>unique_artists</th>\n",
       "      <th>country</th>\n",
       "    </tr>\n",
       "  </thead>\n",
       "  <tbody>\n",
       "    <tr>\n",
       "      <th>0</th>\n",
       "      <td>Elisa</td>\n",
       "      <td>IT</td>\n",
       "    </tr>\n",
       "    <tr>\n",
       "      <th>1</th>\n",
       "      <td>BlackNut</td>\n",
       "      <td>Unknown</td>\n",
       "    </tr>\n",
       "    <tr>\n",
       "      <th>2</th>\n",
       "      <td>Manoj Muntashir</td>\n",
       "      <td>IN</td>\n",
       "    </tr>\n",
       "    <tr>\n",
       "      <th>3</th>\n",
       "      <td>thasup</td>\n",
       "      <td>IT</td>\n",
       "    </tr>\n",
       "    <tr>\n",
       "      <th>4</th>\n",
       "      <td>Fave</td>\n",
       "      <td>Unknown</td>\n",
       "    </tr>\n",
       "  </tbody>\n",
       "</table>\n",
       "</div>"
      ],
      "text/plain": [
       "    unique_artists  country\n",
       "0            Elisa       IT\n",
       "1         BlackNut  Unknown\n",
       "2  Manoj Muntashir       IN\n",
       "3           thasup       IT\n",
       "4             Fave  Unknown"
      ]
     },
     "execution_count": 13,
     "metadata": {},
     "output_type": "execute_result"
    }
   ],
   "source": [
    "df.head()"
   ]
  },
  {
   "cell_type": "code",
   "execution_count": null,
   "metadata": {},
   "outputs": [],
   "source": []
  }
 ],
 "metadata": {
  "kernelspec": {
   "display_name": "Python 3",
   "language": "python",
   "name": "python3"
  },
  "language_info": {
   "codemirror_mode": {
    "name": "ipython",
    "version": 3
   },
   "file_extension": ".py",
   "mimetype": "text/x-python",
   "name": "python",
   "nbconvert_exporter": "python",
   "pygments_lexer": "ipython3",
   "version": "3.8.3"
  }
 },
 "nbformat": 4,
 "nbformat_minor": 2
}
