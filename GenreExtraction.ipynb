{
 "cells": [
  {
   "cell_type": "code",
   "execution_count": 2,
   "metadata": {},
   "outputs": [],
   "source": [
    "import pandas as pd\n",
    "import numpy as np\n",
    "import matplotlib.pyplot as plt\n",
    "import seaborn as sns\n",
    "import chardet\n",
    "from ast import literal_eval"
   ]
  },
  {
   "cell_type": "code",
   "execution_count": 3,
   "metadata": {},
   "outputs": [],
   "source": [
    "path = \".\\Data\\prepared.csv\"\n",
    "with open(path,\"rb\") as f:\n",
    "    encoding = chardet.detect(f.read())[\"encoding\"]\n",
    "\n",
    "df = pd.read_csv(path,encoding=encoding)"
   ]
  },
  {
   "cell_type": "code",
   "execution_count": 4,
   "metadata": {},
   "outputs": [],
   "source": [
    "def process_cell(cell):\n",
    "    if pd.isna(cell):  \n",
    "        return []\n",
    "    try:\n",
    "        result = literal_eval(cell) if isinstance(cell, str) else cell\n",
    "        return result if isinstance(result, list) else [result]\n",
    "    except:\n",
    "        return []"
   ]
  },
  {
   "cell_type": "code",
   "execution_count": 5,
   "metadata": {},
   "outputs": [],
   "source": [
    "# 장르 매핑\n",
    "genre_map = {\n",
    "    \"pop\": [\"pop\",\"easy listening\"],\n",
    "    \"hip hop\": [\"drill\", \"trap\", \"rap\", \"hip hop\"],\n",
    "    \"rock\": [\"grunge\",\"rock\",\"british invasion\",\"metal\",\"nu metal\"],\n",
    "    \"blues\": [\"doo-wop\",\"blues\"],\n",
    "    \"jazz\": [\"swing\",\"adult standard\",\"jazz\"],\n",
    "    \"electronic music\": [\"house\", \"synth funk\",\"edm\",\"electronica\"],\n",
    "    \"country\": [\"country\"],\n",
    "    \"r&b\": [\"r&b\"],\n",
    "    \"soul\": [\"soul\"],\n",
    "    \"folk\": [\"folk\"],\n",
    "    \"k-pop\": [\"k-pop\",\"korean\"]\n",
    "}"
   ]
  },
  {
   "cell_type": "code",
   "execution_count": 6,
   "metadata": {},
   "outputs": [],
   "source": [
    "# 역 매핑: 키워드 -> 장르\n",
    "keyword_to_genre = {keyword: genre for genre, keywords in genre_map.items() for keyword in keywords}\n"
   ]
  },
  {
   "cell_type": "code",
   "execution_count": 7,
   "metadata": {},
   "outputs": [],
   "source": [
    "def assign_genre(cell):\n",
    "    processed = process_cell(cell)\n",
    "    for word in processed:\n",
    "        for keyword, genre in keyword_to_genre.items():\n",
    "            if keyword in word.lower():  # 키워드가 문자열에 포함되어 있는지 확인\n",
    "                return genre\n",
    "    return None  "
   ]
  },
  {
   "cell_type": "code",
   "execution_count": 8,
   "metadata": {},
   "outputs": [
    {
     "data": {
      "text/plain": [
       "0    jazz\n",
       "1    None\n",
       "2    None\n",
       "3    jazz\n",
       "4     pop\n",
       "Name: processed_genre, dtype: object"
      ]
     },
     "execution_count": 8,
     "metadata": {},
     "output_type": "execute_result"
    }
   ],
   "source": [
    "df[\"processed_genre\"] = df[\"artist genres\"].apply(assign_genre)\n",
    "df.to_csv(\"genre_processed.csv\")\n",
    "df[\"processed_genre\"].head()"
   ]
  }
 ],
 "metadata": {
  "kernelspec": {
   "display_name": "Python 3",
   "language": "python",
   "name": "python3"
  },
  "language_info": {
   "codemirror_mode": {
    "name": "ipython",
    "version": 3
   },
   "file_extension": ".py",
   "mimetype": "text/x-python",
   "name": "python",
   "nbconvert_exporter": "python",
   "pygments_lexer": "ipython3",
   "version": "3.8.3"
  }
 },
 "nbformat": 4,
 "nbformat_minor": 2
}
