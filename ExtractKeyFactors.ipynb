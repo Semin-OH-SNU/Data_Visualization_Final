{
 "cells": [
  {
   "cell_type": "code",
   "execution_count": 1,
   "metadata": {},
   "outputs": [],
   "source": [
    "import pandas as pd\n",
    "import chardet"
   ]
  },
  {
   "cell_type": "code",
   "execution_count": 3,
   "metadata": {},
   "outputs": [],
   "source": [
    "path = \".\\Data\\prepared.csv\"\n",
    "with open(path,\"rb\") as f:\n",
    "    encoding = chardet.detect(f.read())[\"encoding\"]\n",
    "df = pd.read_csv(path,encoding=encoding)"
   ]
  },
  {
   "cell_type": "code",
   "execution_count": 4,
   "metadata": {},
   "outputs": [],
   "source": [
    "meta_category = [\"year\",\"titles\",\"rank\"]\n",
    "artist_category = [\"year\",\"artist name\",\"artist genres\",\"artist popularity\"]\n",
    "track_category = [\"year\",\"danceability\",\"energy\",\"loudness\",\"speechiness\",\"acousticness\",\"instrumentalness\",\"liveness\",\"valence\",\"tempo\",\"duration ms\",\"time signature\"]\n",
    "\n",
    "meta_df = df[meta_category] #year, song titles, belonging album\n",
    "artist_df = df[artist_category] #year + artist name, genres, popularity \n",
    "track_df = df[track_category] #year + audio_features of each tracks"
   ]
  },
  {
   "cell_type": "code",
   "execution_count": 6,
   "metadata": {},
   "outputs": [
    {
     "data": {
      "text/plain": [
       "\" Description for each track category\\ndanceability : 댄스음악인가? scale: 0.0 - 1.0. larger, danceable\\nacousticness: acoustic한 정도. 즉, 전자음이 들어간 정도. scale: 0.0-1.0. larger, acoustic.\\nenergy : energetic? scale:0.0 - 1.0. larger, energetic(fast, fancy, noisy)\\nkey: pitch. scale -1-11. using standard Pitch Class Notation\\ninstrumentlness : 악기의 비중. scale: 0.0 - 1.0. larger, less vocal\\nliveness : 음원 상에 청중의 존재가 느껴지는 정도. scale: 0.0-1.0. 0.8이상이면 라이브 음원.\\nloudness : 트랙의 총 데시벨. scale: -60 ~ 0dB.\\nmode : major(장조) = 1, minor(단조) = 0\\nspeechiness : 'spoken word'의 비중; scale 0.0-1.0; 0.6 이상은 팟캐스트; 0.3-0.6: 랩; 0.3 미만: 랩 이외의 음악 \\ntempo : 템포, scale:real-scale. beats per minute(BPM).\\nvalence : valence 음악에서 느껴지는 정서. scale: 0.0-1.0. larger, positive\\n\""
      ]
     },
     "execution_count": 6,
     "metadata": {},
     "output_type": "execute_result"
    }
   ],
   "source": [
    "\"\"\" Description for each track category\n",
    "danceability : 댄스음악인가? scale: 0.0 - 1.0. larger, danceable\n",
    "acousticness: acoustic한 정도. 즉, 전자음이 들어간 정도. scale: 0.0-1.0. larger, acoustic.\n",
    "energy : energetic? scale:0.0 - 1.0. larger, energetic(fast, fancy, noisy)\n",
    "key: pitch. scale -1-11. using standard Pitch Class Notation\n",
    "instrumentlness : 악기의 비중. scale: 0.0 - 1.0. larger, less vocal\n",
    "liveness : 음원 상에 청중의 존재가 느껴지는 정도. scale: 0.0-1.0. 0.8이상이면 라이브 음원.\n",
    "loudness : 트랙의 총 데시벨. scale: -60 ~ 0dB.\n",
    "mode : major(장조) = 1, minor(단조) = 0\n",
    "speechiness : 'spoken word'의 비중; scale 0.0-1.0; 0.6 이상은 팟캐스트; 0.3-0.6: 랩; 0.3 미만: 랩 이외의 음악 \n",
    "tempo : 템포, scale:real-scale. beats per minute(BPM).\n",
    "valence : valence 음악에서 느껴지는 정서. scale: 0.0-1.0. larger, positive\n",
    "\"\"\""
   ]
  }
 ],
 "metadata": {
  "kernelspec": {
   "display_name": "Python 3",
   "language": "python",
   "name": "python3"
  },
  "language_info": {
   "codemirror_mode": {
    "name": "ipython",
    "version": 3
   },
   "file_extension": ".py",
   "mimetype": "text/x-python",
   "name": "python",
   "nbconvert_exporter": "python",
   "pygments_lexer": "ipython3",
   "version": "3.8.3"
  }
 },
 "nbformat": 4,
 "nbformat_minor": 2
}
